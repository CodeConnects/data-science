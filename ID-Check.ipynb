#import packages

#measures structural similarity
from skimage.metrics import structural_similarity

#helps in grabbing the contours of images
import imutils

#Computer Vision
import cv2

#allows downloading images
from PIL import Image

#parse data from URLs
import requests

